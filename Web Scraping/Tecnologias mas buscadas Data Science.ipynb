{
 "cells": [
  {
   "cell_type": "code",
   "execution_count": 2,
   "metadata": {},
   "outputs": [],
   "source": [
    "from IPython.display import HTML\n",
    "import numpy as np\n",
    "import urllib.request\n",
    "import bs4 #this is beautiful soup\n",
    "import time\n",
    "import operator\n",
    "import socket\n",
    "import pickle\n",
    "import re\n",
    "\n",
    "from pandas import Series\n",
    "import pandas as pd\n",
    "from pandas import DataFrame\n",
    "\n",
    "import matplotlib\n",
    "import seaborn as sns\n",
    "import matplotlib.pyplot as plt"
   ]
  },
  {
   "cell_type": "code",
   "execution_count": 70,
   "metadata": {},
   "outputs": [],
   "source": [
    "num_pages = 3\n",
    "\n",
    "url_base = 'https://www.indeed.com/jobs?q=Data+Scientist&start='\n",
    "source = urllib.request.urlopen(url_base).read()\n",
    "bs_tree = bs4.BeautifulSoup(source)\n",
    "\n",
    "searchCount = bs_tree.find(id='searchCountPages')"
   ]
  },
  {
   "cell_type": "code",
   "execution_count": 72,
   "metadata": {},
   "outputs": [
    {
     "data": {
      "text/plain": [
       "'https://www.indeed.com/jobs?q=Data+Scientist&start=0'"
      ]
     },
     "execution_count": 72,
     "metadata": {},
     "output_type": "execute_result"
    }
   ],
   "source": [
    "url_base + str(0*10)"
   ]
  },
  {
   "cell_type": "code",
   "execution_count": 108,
   "metadata": {},
   "outputs": [],
   "source": [
    "links = []\n",
    "\n",
    "for i in range(0,20):\n",
    "    source = urllib.request.urlopen(url_base + str(i*10)).read()\n",
    "    bs_tree = bs4.BeautifulSoup(source)\n",
    "    columnaRes = bs_tree.find(id = 'resultsCol')\n",
    "    trabajos = columnaRes.findAll(\"div\", {\"class\": 'unifiedRow'})\n",
    "    iDtrabajos = [t.get('data-jk') for t in trabajos ]\n",
    "    for j in range(0,len(iDtrabajos)):\n",
    "        links.append('https://www.indeed.com/viewjob?jk=' + iDtrabajos[j])\n",
    "        \n",
    "    time.sleep(1)"
   ]
  },
  {
   "cell_type": "code",
   "execution_count": 109,
   "metadata": {},
   "outputs": [
    {
     "data": {
      "text/plain": [
       "210"
      ]
     },
     "execution_count": 109,
     "metadata": {},
     "output_type": "execute_result"
    }
   ],
   "source": [
    "len(links)"
   ]
  },
  {
   "cell_type": "code",
   "execution_count": 110,
   "metadata": {},
   "outputs": [
    {
     "data": {
      "text/plain": [
       "['https://www.indeed.com/viewjob?jk=57125117d2b4b0f6',\n",
       " 'https://www.indeed.com/viewjob?jk=ed549e23e6309829',\n",
       " 'https://www.indeed.com/viewjob?jk=4fbc59d736aac3c6',\n",
       " 'https://www.indeed.com/viewjob?jk=64542f2ee2455370',\n",
       " 'https://www.indeed.com/viewjob?jk=148b20336e7f2dab',\n",
       " 'https://www.indeed.com/viewjob?jk=c98473a369f65315',\n",
       " 'https://www.indeed.com/viewjob?jk=6e7b4efe3821eb15',\n",
       " 'https://www.indeed.com/viewjob?jk=a6565e2068a4ae6a',\n",
       " 'https://www.indeed.com/viewjob?jk=acb7925431f96873',\n",
       " 'https://www.indeed.com/viewjob?jk=6c396298b99f8fc9',\n",
       " 'https://www.indeed.com/viewjob?jk=b591b9aa7d26c125',\n",
       " 'https://www.indeed.com/viewjob?jk=cad720e321b8978e',\n",
       " 'https://www.indeed.com/viewjob?jk=e65a19b6d76a43e5',\n",
       " 'https://www.indeed.com/viewjob?jk=6673ef64e0ace3dd',\n",
       " 'https://www.indeed.com/viewjob?jk=0c53d6cc4b02670d',\n",
       " 'https://www.indeed.com/viewjob?jk=14faf390f8303631',\n",
       " 'https://www.indeed.com/viewjob?jk=080d443dff598886',\n",
       " 'https://www.indeed.com/viewjob?jk=d147e71e874d603f',\n",
       " 'https://www.indeed.com/viewjob?jk=2d004e108630a1c6',\n",
       " 'https://www.indeed.com/viewjob?jk=485b42f0dc380696',\n",
       " 'https://www.indeed.com/viewjob?jk=9ac7eed6a28e23ee',\n",
       " 'https://www.indeed.com/viewjob?jk=9e52d36b49065b1e',\n",
       " 'https://www.indeed.com/viewjob?jk=3f226dd1b1b03aa0',\n",
       " 'https://www.indeed.com/viewjob?jk=51bf5d18f24fc4bf',\n",
       " 'https://www.indeed.com/viewjob?jk=3845660a5da3aba1',\n",
       " 'https://www.indeed.com/viewjob?jk=810c26d71e8933c2',\n",
       " 'https://www.indeed.com/viewjob?jk=02d44369348a869c',\n",
       " 'https://www.indeed.com/viewjob?jk=166f664df84098d1',\n",
       " 'https://www.indeed.com/viewjob?jk=6ab7f0f79d3b3b07',\n",
       " 'https://www.indeed.com/viewjob?jk=2cade16040720d00',\n",
       " 'https://www.indeed.com/viewjob?jk=6ab7f0f79d3b3b07',\n",
       " 'https://www.indeed.com/viewjob?jk=394a46bb3743f162',\n",
       " 'https://www.indeed.com/viewjob?jk=f5f87eaa2b631a24',\n",
       " 'https://www.indeed.com/viewjob?jk=82d14800e87afc12',\n",
       " 'https://www.indeed.com/viewjob?jk=2be0b58febc9e3dc',\n",
       " 'https://www.indeed.com/viewjob?jk=0dcd2b64486ebc5f',\n",
       " 'https://www.indeed.com/viewjob?jk=23f5c2215306f688',\n",
       " 'https://www.indeed.com/viewjob?jk=80ea4996623778f5',\n",
       " 'https://www.indeed.com/viewjob?jk=763eca2444cab164',\n",
       " 'https://www.indeed.com/viewjob?jk=186d2aa111994946',\n",
       " 'https://www.indeed.com/viewjob?jk=de551357ded6be68',\n",
       " 'https://www.indeed.com/viewjob?jk=5f2008986b0bc356',\n",
       " 'https://www.indeed.com/viewjob?jk=9910c856561d77c8',\n",
       " 'https://www.indeed.com/viewjob?jk=76bf2d80ca51e592',\n",
       " 'https://www.indeed.com/viewjob?jk=05d9a7e42a0d5f80',\n",
       " 'https://www.indeed.com/viewjob?jk=bddcb1faeb174b60',\n",
       " 'https://www.indeed.com/viewjob?jk=62480fcd485881a2',\n",
       " 'https://www.indeed.com/viewjob?jk=47ba55d013d6b1e0',\n",
       " 'https://www.indeed.com/viewjob?jk=cae371ba72637647',\n",
       " 'https://www.indeed.com/viewjob?jk=72e6389ed417e58a',\n",
       " 'https://www.indeed.com/viewjob?jk=941aa39d4763c70d',\n",
       " 'https://www.indeed.com/viewjob?jk=64acf8eacd7f4842',\n",
       " 'https://www.indeed.com/viewjob?jk=284a4addded15319',\n",
       " 'https://www.indeed.com/viewjob?jk=38c30312a7764e47',\n",
       " 'https://www.indeed.com/viewjob?jk=107a3f500ddfd4a6',\n",
       " 'https://www.indeed.com/viewjob?jk=11baba484db23433',\n",
       " 'https://www.indeed.com/viewjob?jk=8d8391f2b7ad9c38',\n",
       " 'https://www.indeed.com/viewjob?jk=9285913498e9c4dd',\n",
       " 'https://www.indeed.com/viewjob?jk=16e49a412ff8efde',\n",
       " 'https://www.indeed.com/viewjob?jk=d5dd72a690e73a55',\n",
       " 'https://www.indeed.com/viewjob?jk=ba279c4900ea2a32',\n",
       " 'https://www.indeed.com/viewjob?jk=0fb006681a7c0491',\n",
       " 'https://www.indeed.com/viewjob?jk=f343902527805f6c',\n",
       " 'https://www.indeed.com/viewjob?jk=d5c3cd8107991bce',\n",
       " 'https://www.indeed.com/viewjob?jk=05d9a7e42a0d5f80',\n",
       " 'https://www.indeed.com/viewjob?jk=05d9a7e42a0d5f80',\n",
       " 'https://www.indeed.com/viewjob?jk=5f2008986b0bc356',\n",
       " 'https://www.indeed.com/viewjob?jk=d5c3cd8107991bce',\n",
       " 'https://www.indeed.com/viewjob?jk=1636faa0308fd08f',\n",
       " 'https://www.indeed.com/viewjob?jk=de551357ded6be68',\n",
       " 'https://www.indeed.com/viewjob?jk=bddcb1faeb174b60',\n",
       " 'https://www.indeed.com/viewjob?jk=72e6389ed417e58a',\n",
       " 'https://www.indeed.com/viewjob?jk=47ba55d013d6b1e0',\n",
       " 'https://www.indeed.com/viewjob?jk=cae371ba72637647',\n",
       " 'https://www.indeed.com/viewjob?jk=71722be8a58df303',\n",
       " 'https://www.indeed.com/viewjob?jk=284a4addded15319',\n",
       " 'https://www.indeed.com/viewjob?jk=107a3f500ddfd4a6',\n",
       " 'https://www.indeed.com/viewjob?jk=38c30312a7764e47',\n",
       " 'https://www.indeed.com/viewjob?jk=941aa39d4763c70d',\n",
       " 'https://www.indeed.com/viewjob?jk=71722be8a58df303',\n",
       " 'https://www.indeed.com/viewjob?jk=64acf8eacd7f4842',\n",
       " 'https://www.indeed.com/viewjob?jk=1d1002a122d7ecb6',\n",
       " 'https://www.indeed.com/viewjob?jk=6a1b737ca5a508e8',\n",
       " 'https://www.indeed.com/viewjob?jk=3867f677585f28a5',\n",
       " 'https://www.indeed.com/viewjob?jk=3cc5fd197a334204',\n",
       " 'https://www.indeed.com/viewjob?jk=80fb722b31ff463e',\n",
       " 'https://www.indeed.com/viewjob?jk=1243057e98b46ea6',\n",
       " 'https://www.indeed.com/viewjob?jk=9448ed041dc5120e',\n",
       " 'https://www.indeed.com/viewjob?jk=afc6dc92098e4c73',\n",
       " 'https://www.indeed.com/viewjob?jk=6f8943784e0d689e',\n",
       " 'https://www.indeed.com/viewjob?jk=7eee6f876bf787df',\n",
       " 'https://www.indeed.com/viewjob?jk=24b232ccc4845c7c',\n",
       " 'https://www.indeed.com/viewjob?jk=032a35834f0e3f18',\n",
       " 'https://www.indeed.com/viewjob?jk=95a5de89ec4b02ad',\n",
       " 'https://www.indeed.com/viewjob?jk=7fa4123949bdcfa5',\n",
       " 'https://www.indeed.com/viewjob?jk=ff24a6cfa99dd1a1',\n",
       " 'https://www.indeed.com/viewjob?jk=fe87c4cacc7bd452',\n",
       " 'https://www.indeed.com/viewjob?jk=ecea286461fee2bc',\n",
       " 'https://www.indeed.com/viewjob?jk=5095b21a08885ed5',\n",
       " 'https://www.indeed.com/viewjob?jk=56d5db2c21352eef',\n",
       " 'https://www.indeed.com/viewjob?jk=4ae4cbce59166f00',\n",
       " 'https://www.indeed.com/viewjob?jk=31a260b8558c6356',\n",
       " 'https://www.indeed.com/viewjob?jk=774e8ab55a4627fb',\n",
       " 'https://www.indeed.com/viewjob?jk=56a41064ef07662f',\n",
       " 'https://www.indeed.com/viewjob?jk=4ab0ea6d11ff5691',\n",
       " 'https://www.indeed.com/viewjob?jk=47ac3a87e06a6423',\n",
       " 'https://www.indeed.com/viewjob?jk=ad00ac65c56f76a5',\n",
       " 'https://www.indeed.com/viewjob?jk=e410a68e5d1298bc',\n",
       " 'https://www.indeed.com/viewjob?jk=8d6286c483abb75b',\n",
       " 'https://www.indeed.com/viewjob?jk=52ad954c5e1d67aa',\n",
       " 'https://www.indeed.com/viewjob?jk=5dd7f4de2d1cf36a',\n",
       " 'https://www.indeed.com/viewjob?jk=4405f026184cefee',\n",
       " 'https://www.indeed.com/viewjob?jk=769ddfc4c72afbac',\n",
       " 'https://www.indeed.com/viewjob?jk=ca0c982ec6017c10',\n",
       " 'https://www.indeed.com/viewjob?jk=e5e79e6284f5fbf1',\n",
       " 'https://www.indeed.com/viewjob?jk=e4e2a70efdd544a6',\n",
       " 'https://www.indeed.com/viewjob?jk=5e29f3ae1af96d29',\n",
       " 'https://www.indeed.com/viewjob?jk=57507bc8518ca312',\n",
       " 'https://www.indeed.com/viewjob?jk=737ce7fac54c7472',\n",
       " 'https://www.indeed.com/viewjob?jk=4df5e9a053f32646',\n",
       " 'https://www.indeed.com/viewjob?jk=d9b4bd00ee5439bc',\n",
       " 'https://www.indeed.com/viewjob?jk=7ee6e4997258f140',\n",
       " 'https://www.indeed.com/viewjob?jk=f08f2333d89f8b8d',\n",
       " 'https://www.indeed.com/viewjob?jk=145eab73db0e5af3',\n",
       " 'https://www.indeed.com/viewjob?jk=2ec4b16080b418d2',\n",
       " 'https://www.indeed.com/viewjob?jk=34ff9a85e4e02102',\n",
       " 'https://www.indeed.com/viewjob?jk=8e5c970ea2df996d',\n",
       " 'https://www.indeed.com/viewjob?jk=fc8f5779f937a435',\n",
       " 'https://www.indeed.com/viewjob?jk=4ab11de777499123',\n",
       " 'https://www.indeed.com/viewjob?jk=6fb38df363ad00b6',\n",
       " 'https://www.indeed.com/viewjob?jk=a09b26430ab31add',\n",
       " 'https://www.indeed.com/viewjob?jk=b6c2bc51dfe5a2fd',\n",
       " 'https://www.indeed.com/viewjob?jk=72bc9630d4f7793a',\n",
       " 'https://www.indeed.com/viewjob?jk=6067aefa448e8d79',\n",
       " 'https://www.indeed.com/viewjob?jk=746659c15a642520',\n",
       " 'https://www.indeed.com/viewjob?jk=32dcb57a86d614d2',\n",
       " 'https://www.indeed.com/viewjob?jk=19559f2a996703a4',\n",
       " 'https://www.indeed.com/viewjob?jk=1051374a0377f817',\n",
       " 'https://www.indeed.com/viewjob?jk=efc03b7145839e9f',\n",
       " 'https://www.indeed.com/viewjob?jk=cf3a6989c432f42e',\n",
       " 'https://www.indeed.com/viewjob?jk=075461df92c1f239',\n",
       " 'https://www.indeed.com/viewjob?jk=07d3c4430576b654',\n",
       " 'https://www.indeed.com/viewjob?jk=e326363465943065',\n",
       " 'https://www.indeed.com/viewjob?jk=a9940a74ae0b5b53',\n",
       " 'https://www.indeed.com/viewjob?jk=d15f778dedd67f1b',\n",
       " 'https://www.indeed.com/viewjob?jk=8493c892ad9ef4fe',\n",
       " 'https://www.indeed.com/viewjob?jk=b3a0b2f91db54fa0',\n",
       " 'https://www.indeed.com/viewjob?jk=9c106e8c2e5e4de9',\n",
       " 'https://www.indeed.com/viewjob?jk=1d2d9cfc99f28f00',\n",
       " 'https://www.indeed.com/viewjob?jk=c2a4d5112c36dbf3',\n",
       " 'https://www.indeed.com/viewjob?jk=f63ba117a95fd783',\n",
       " 'https://www.indeed.com/viewjob?jk=2a3200281cdd2d38',\n",
       " 'https://www.indeed.com/viewjob?jk=02aab1ace82327ed',\n",
       " 'https://www.indeed.com/viewjob?jk=a479046bbf98a4c6',\n",
       " 'https://www.indeed.com/viewjob?jk=6748ad2694bba1ba',\n",
       " 'https://www.indeed.com/viewjob?jk=dc72e2276ade7738',\n",
       " 'https://www.indeed.com/viewjob?jk=9f30dd5b6bcb4ff7',\n",
       " 'https://www.indeed.com/viewjob?jk=abd2767b432a9fbd',\n",
       " 'https://www.indeed.com/viewjob?jk=4b1319b2b48d7fd7',\n",
       " 'https://www.indeed.com/viewjob?jk=1547368f48693a11',\n",
       " 'https://www.indeed.com/viewjob?jk=37a7b72f824acac5',\n",
       " 'https://www.indeed.com/viewjob?jk=fe38da4c36a3b431',\n",
       " 'https://www.indeed.com/viewjob?jk=40cae301c71417b1',\n",
       " 'https://www.indeed.com/viewjob?jk=eafacdc8a2ee33a3',\n",
       " 'https://www.indeed.com/viewjob?jk=a827b147e357ff86',\n",
       " 'https://www.indeed.com/viewjob?jk=00ba1a22ba67ffd2',\n",
       " 'https://www.indeed.com/viewjob?jk=41c50cef7fced75a',\n",
       " 'https://www.indeed.com/viewjob?jk=90ec60506c031b38',\n",
       " 'https://www.indeed.com/viewjob?jk=f78415a175ed998d',\n",
       " 'https://www.indeed.com/viewjob?jk=57a79cefaafd1c01',\n",
       " 'https://www.indeed.com/viewjob?jk=830fb102650605f0',\n",
       " 'https://www.indeed.com/viewjob?jk=00a9352b080cad7c',\n",
       " 'https://www.indeed.com/viewjob?jk=aae8dacf90f516fe',\n",
       " 'https://www.indeed.com/viewjob?jk=9c0afb4874575970',\n",
       " 'https://www.indeed.com/viewjob?jk=5e16eed1062b9ed1',\n",
       " 'https://www.indeed.com/viewjob?jk=939556673009766a',\n",
       " 'https://www.indeed.com/viewjob?jk=312ec94536b68214',\n",
       " 'https://www.indeed.com/viewjob?jk=85cc3860e666fa0d',\n",
       " 'https://www.indeed.com/viewjob?jk=66a82407dff93d61',\n",
       " 'https://www.indeed.com/viewjob?jk=0c3fc298ba3f5609',\n",
       " 'https://www.indeed.com/viewjob?jk=556a31b9f1370e38',\n",
       " 'https://www.indeed.com/viewjob?jk=69df13755154ed55',\n",
       " 'https://www.indeed.com/viewjob?jk=7ce9e0a3bb536d7a',\n",
       " 'https://www.indeed.com/viewjob?jk=224e9b10e2dcb14b',\n",
       " 'https://www.indeed.com/viewjob?jk=a24bfc2102d523db',\n",
       " 'https://www.indeed.com/viewjob?jk=26ce790090ce1493',\n",
       " 'https://www.indeed.com/viewjob?jk=08c5749da0ccdb6b',\n",
       " 'https://www.indeed.com/viewjob?jk=6ceacf11dbdd0c82',\n",
       " 'https://www.indeed.com/viewjob?jk=8f08274cd8933c6c',\n",
       " 'https://www.indeed.com/viewjob?jk=c8befdba36c5ef87',\n",
       " 'https://www.indeed.com/viewjob?jk=4d0ed859a122e4ba',\n",
       " 'https://www.indeed.com/viewjob?jk=911c701395f12dca',\n",
       " 'https://www.indeed.com/viewjob?jk=6b333a9a85fd7f7a',\n",
       " 'https://www.indeed.com/viewjob?jk=fbfad9167db87678',\n",
       " 'https://www.indeed.com/viewjob?jk=9d134f19e2330c91',\n",
       " 'https://www.indeed.com/viewjob?jk=8e53e3d95a450cda',\n",
       " 'https://www.indeed.com/viewjob?jk=805250d9d19b1ea6',\n",
       " 'https://www.indeed.com/viewjob?jk=ece96a17ee2e24f8',\n",
       " 'https://www.indeed.com/viewjob?jk=487e4faffd4a73cd',\n",
       " 'https://www.indeed.com/viewjob?jk=dfdc814990a82e8a',\n",
       " 'https://www.indeed.com/viewjob?jk=ab8af80ec4b245d3',\n",
       " 'https://www.indeed.com/viewjob?jk=8dabf95304dd9834',\n",
       " 'https://www.indeed.com/viewjob?jk=dbe6d3528d212cf0',\n",
       " 'https://www.indeed.com/viewjob?jk=0296d95e7a5abaf5',\n",
       " 'https://www.indeed.com/viewjob?jk=b1a8a6974548670e',\n",
       " 'https://www.indeed.com/viewjob?jk=32dcb57a86d614d2',\n",
       " 'https://www.indeed.com/viewjob?jk=19559f2a996703a4',\n",
       " 'https://www.indeed.com/viewjob?jk=1051374a0377f817',\n",
       " 'https://www.indeed.com/viewjob?jk=efc03b7145839e9f',\n",
       " 'https://www.indeed.com/viewjob?jk=cf3a6989c432f42e']"
      ]
     },
     "execution_count": 110,
     "metadata": {},
     "output_type": "execute_result"
    }
   ],
   "source": [
    "links"
   ]
  },
  {
   "cell_type": "code",
   "execution_count": 111,
   "metadata": {},
   "outputs": [],
   "source": [
    "techs = {'sql':0, 'spark':0, 'machine learning':0, 'hadoop':0, 'python':0 , 'the':0}"
   ]
  },
  {
   "cell_type": "code",
   "execution_count": 112,
   "metadata": {},
   "outputs": [],
   "source": [
    "for link in links:\n",
    "    html = urllib.request.urlopen(link).read().decode('utf-8')\n",
    "    html_text = re.sub(\"[^a-z.+3]\",\" \", html.lower())\n",
    "    \n",
    "    time.sleep(1)\n",
    "    \n",
    "    for key in techs.keys():\n",
    "        if key in html_text:  \n",
    "            techs[key] +=1"
   ]
  },
  {
   "cell_type": "code",
   "execution_count": 113,
   "metadata": {},
   "outputs": [
    {
     "data": {
      "text/plain": [
       "{'sql': 119,\n",
       " 'spark': 34,\n",
       " 'machine learning': 138,\n",
       " 'hadoop': 26,\n",
       " 'python': 210,\n",
       " 'the': 210}"
      ]
     },
     "execution_count": 113,
     "metadata": {},
     "output_type": "execute_result"
    }
   ],
   "source": [
    "techs"
   ]
  },
  {
   "cell_type": "code",
   "execution_count": 122,
   "metadata": {},
   "outputs": [],
   "source": [
    "series = series[0:5]"
   ]
  },
  {
   "cell_type": "code",
   "execution_count": 147,
   "metadata": {},
   "outputs": [
    {
     "data": {
      "text/plain": [
       "sql                 119\n",
       "spark                34\n",
       "machine learning    138\n",
       "hadoop               26\n",
       "python              210\n",
       "dtype: int64"
      ]
     },
     "execution_count": 147,
     "metadata": {},
     "output_type": "execute_result"
    }
   ],
   "source": [
    "series"
   ]
  },
  {
   "cell_type": "code",
   "execution_count": 149,
   "metadata": {},
   "outputs": [],
   "source": [
    "\n",
    "keys = list(techs.keys())\n",
    "values = list(techs.values())\n",
    "\n",
    "keys = keys[0:5]\n",
    "values = values[0:5]\n",
    "\n",
    "keys[0] = 'SQL'\n",
    "keys[1] = 'Spark'\n",
    "keys[2] = 'ML'\n",
    "keys[3] = 'Hadoop'\n",
    "keys[4] = 'Python'"
   ]
  },
  {
   "cell_type": "code",
   "execution_count": 152,
   "metadata": {},
   "outputs": [
    {
     "data": {
      "text/plain": [
       "[]"
      ]
     },
     "execution_count": 152,
     "metadata": {},
     "output_type": "execute_result"
    },
    {
     "data": {
      "image/png": "[encoded data removed]",
      "text/plain": [
       "<Figure size 432x288 with 1 Axes>"
      ]
     },
     "metadata": {
      "needs_background": "light"
     },
     "output_type": "display_data"
    }
   ],
   "source": [
    "sns.barplot(x=keys,y=values)\n",
    "plt.plot()"
   ]
  },
  {
   "cell_type": "code",
   "execution_count": null,
   "metadata": {},
   "outputs": [],
   "source": []
  }
 ],
 "metadata": {
  "kernelspec": {
   "display_name": "Python 3",
   "language": "python",
   "name": "python3"
  },
  "language_info": {
   "codemirror_mode": {
    "name": "ipython",
    "version": 3
   },
   "file_extension": ".py",
   "mimetype": "text/x-python",
   "name": "python",
   "nbconvert_exporter": "python",
   "pygments_lexer": "ipython3",
   "version": "3.7.7"
  }
 },
 "nbformat": 4,
 "nbformat_minor": 4
}
